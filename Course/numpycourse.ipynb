{
 "cells": [
  {
   "cell_type": "code",
   "execution_count": 1,
   "id": "65b9597c-ef42-4167-aa3e-ca771c900ec4",
   "metadata": {},
   "outputs": [],
   "source": [
    "import numpy as np "
   ]
  },
  {
   "cell_type": "code",
   "execution_count": 19,
   "id": "9458a48d-0dc6-498c-b266-5837db19c680",
   "metadata": {},
   "outputs": [],
   "source": [
    "arr = np.array([2,4,5,6,7,6])"
   ]
  },
  {
   "cell_type": "code",
   "execution_count": 25,
   "id": "4730b349-45ed-4f71-8e0f-a0702b3e8fa5",
   "metadata": {},
   "outputs": [
    {
     "name": "stdout",
     "output_type": "stream",
     "text": [
      "10\n"
     ]
    }
   ],
   "source": [
    "print(arr[1]+arr[3])"
   ]
  },
  {
   "cell_type": "markdown",
   "id": "2b1f572c-7f15-416c-9f2f-c736cf34abfd",
   "metadata": {},
   "source": [
    "# reshape"
   ]
  },
  {
   "cell_type": "code",
   "execution_count": 20,
   "id": "91598563-ffce-46d4-8415-fc1fcac43111",
   "metadata": {},
   "outputs": [],
   "source": [
    "new_arr = arr.reshape(2,3)"
   ]
  },
  {
   "cell_type": "code",
   "execution_count": 22,
   "id": "4f7b3010-4eb8-4c17-a84b-15b75a1e3894",
   "metadata": {},
   "outputs": [
    {
     "name": "stdout",
     "output_type": "stream",
     "text": [
      "[[2 4 5]\n",
      " [6 7 6]]\n"
     ]
    }
   ],
   "source": [
    "print(new_arr)"
   ]
  },
  {
   "cell_type": "code",
   "execution_count": 4,
   "id": "7f7a7859-01d4-4cb5-9cb4-5fb1d96b823a",
   "metadata": {},
   "outputs": [
    {
     "name": "stdout",
     "output_type": "stream",
     "text": [
      "<class 'numpy.ndarray'>\n"
     ]
    }
   ],
   "source": [
    "print(type(arr))"
   ]
  },
  {
   "cell_type": "markdown",
   "id": "451d8c9c-3c74-4d2b-b94b-b67a84861f3e",
   "metadata": {},
   "source": [
    "# 2d array "
   ]
  },
  {
   "cell_type": "code",
   "execution_count": 13,
   "id": "890adbca-7150-4322-bde4-15d9d70f4548",
   "metadata": {},
   "outputs": [],
   "source": [
    "arr1 = np.array([[2,3,4] ,[6,7,8]])"
   ]
  },
  {
   "cell_type": "code",
   "execution_count": 35,
   "id": "20f0dc5e-5b21-4d59-a5db-6c4b5390ea2e",
   "metadata": {},
   "outputs": [
    {
     "data": {
      "text/plain": [
       "array([6, 7])"
      ]
     },
     "execution_count": 35,
     "metadata": {},
     "output_type": "execute_result"
    }
   ],
   "source": [
    "arr1[1,:2]"
   ]
  },
  {
   "cell_type": "code",
   "execution_count": 36,
   "id": "c6f111c6-a585-4aa8-a1cb-b85e23a2001f",
   "metadata": {},
   "outputs": [
    {
     "data": {
      "text/plain": [
       "array([[2, 3, 4],\n",
       "       [6, 7, 8]])"
      ]
     },
     "execution_count": 36,
     "metadata": {},
     "output_type": "execute_result"
    }
   ],
   "source": [
    "arr1"
   ]
  },
  {
   "cell_type": "code",
   "execution_count": 26,
   "id": "442a7c1f-a054-4c0d-b500-47b2f8246c11",
   "metadata": {},
   "outputs": [
    {
     "name": "stdout",
     "output_type": "stream",
     "text": [
      "3\n"
     ]
    }
   ],
   "source": [
    "print(arr1[0,1])"
   ]
  },
  {
   "cell_type": "markdown",
   "id": "2321959a-17e3-4008-bf06-c8d32e0d6e62",
   "metadata": {},
   "source": [
    "# flatten array can change any dimension array to one D array "
   ]
  },
  {
   "cell_type": "code",
   "execution_count": 23,
   "id": "c388e121-e931-4d69-a2ce-ef66ed1c2150",
   "metadata": {},
   "outputs": [],
   "source": [
    "flatten_arr1 = arr1.reshape(-1)"
   ]
  },
  {
   "cell_type": "code",
   "execution_count": 14,
   "id": "74d923fd-6493-4afc-96b1-6f264543e4ca",
   "metadata": {},
   "outputs": [
    {
     "name": "stdout",
     "output_type": "stream",
     "text": [
      "[[2 3 4]\n",
      " [6 7 8]]\n"
     ]
    }
   ],
   "source": [
    "print(arr1)"
   ]
  },
  {
   "cell_type": "code",
   "execution_count": 24,
   "id": "9c527dc7-b4da-4318-aa73-7e4af0e597bc",
   "metadata": {},
   "outputs": [
    {
     "name": "stdout",
     "output_type": "stream",
     "text": [
      "[2 3 4 6 7 8]\n"
     ]
    }
   ],
   "source": [
    "print(flatten_arr1)"
   ]
  },
  {
   "cell_type": "markdown",
   "id": "60244072-d60b-4ca7-8c63-121b4141300d",
   "metadata": {},
   "source": [
    "#to tell the dimension of the array "
   ]
  },
  {
   "cell_type": "code",
   "execution_count": 15,
   "id": "6b41db3d-dc48-4193-ae21-8532451986e9",
   "metadata": {},
   "outputs": [
    {
     "name": "stdout",
     "output_type": "stream",
     "text": [
      "2\n"
     ]
    }
   ],
   "source": [
    "print(arr1.ndim)"
   ]
  },
  {
   "cell_type": "markdown",
   "id": "9b751246-0049-4127-b75d-1f89b45fc253",
   "metadata": {},
   "source": [
    "# number of elements is the shape of array "
   ]
  },
  {
   "cell_type": "code",
   "execution_count": 17,
   "id": "e655f1f4-21f7-410c-9b19-ef9a995e4380",
   "metadata": {},
   "outputs": [
    {
     "name": "stdout",
     "output_type": "stream",
     "text": [
      "(2, 3)\n"
     ]
    }
   ],
   "source": [
    "print(arr1.shape)"
   ]
  },
  {
   "cell_type": "markdown",
   "id": "b6e41fcd-b2da-4f1f-bc65-93a9fe2cdf6b",
   "metadata": {},
   "source": [
    "# this means 2 rows and number of elements are 3 "
   ]
  },
  {
   "cell_type": "markdown",
   "id": "5531cbf3-3ca9-4320-a445-6ad2f35d9fc4",
   "metadata": {},
   "source": [
    "# iterating 2D arrays"
   ]
  },
  {
   "cell_type": "code",
   "execution_count": 28,
   "id": "f33dfcd7-c0c5-4399-860f-baf69f88bd7c",
   "metadata": {},
   "outputs": [],
   "source": [
    "arr2 = np.array([[2,3,4] ,[6,7,8]])"
   ]
  },
  {
   "cell_type": "code",
   "execution_count": 30,
   "id": "f15bac9c-8897-4ade-ad29-62b3d807e193",
   "metadata": {},
   "outputs": [
    {
     "name": "stdout",
     "output_type": "stream",
     "text": [
      "2\n",
      "3\n",
      "4\n",
      "6\n",
      "7\n",
      "8\n"
     ]
    }
   ],
   "source": [
    "for x in arr2:\n",
    "    for y in x:\n",
    "        print(y)"
   ]
  },
  {
   "cell_type": "markdown",
   "id": "0760a934-5868-4489-8802-1fc5f4e548b2",
   "metadata": {},
   "source": [
    "# slicing array [start:end:step] , step will skip the particular elements "
   ]
  },
  {
   "cell_type": "code",
   "execution_count": 32,
   "id": "268d1b13-111a-4871-b3dd-1763f2d5081c",
   "metadata": {},
   "outputs": [],
   "source": [
    "ar3 = np.array([2,4,5,6,7,6])"
   ]
  },
  {
   "cell_type": "code",
   "execution_count": 33,
   "id": "01c58ae1-da8f-401a-87c2-57dab3a49d2f",
   "metadata": {},
   "outputs": [
    {
     "data": {
      "text/plain": [
       "array([4, 6])"
      ]
     },
     "execution_count": 33,
     "metadata": {},
     "output_type": "execute_result"
    }
   ],
   "source": [
    "arr[1:5:2]"
   ]
  },
  {
   "cell_type": "code",
   "execution_count": 34,
   "id": "4fa06a7f-a882-467c-be75-43c1f76ad9b8",
   "metadata": {},
   "outputs": [],
   "source": [
    "# it will skip the every alternate element as step is 2"
   ]
  },
  {
   "cell_type": "markdown",
   "id": "50371b68-d490-40d6-a6ab-bc189d885aae",
   "metadata": {},
   "source": [
    "# searching (printing elements which are even ) "
   ]
  },
  {
   "cell_type": "code",
   "execution_count": 38,
   "id": "cbfdd672-8e0b-4e03-b4f8-5251569cfc95",
   "metadata": {},
   "outputs": [
    {
     "name": "stdout",
     "output_type": "stream",
     "text": [
      "(array([0, 1, 3, 5]),)\n"
     ]
    }
   ],
   "source": [
    "b = np.where(ar3%2 ==0 ) \n",
    "print(b)"
   ]
  },
  {
   "cell_type": "code",
   "execution_count": 39,
   "id": "3cdbeca0-f9cb-46e0-b782-d26a32de3520",
   "metadata": {},
   "outputs": [
    {
     "data": {
      "text/plain": [
       "array([2, 4, 5, 6, 6, 7])"
      ]
     },
     "execution_count": 39,
     "metadata": {},
     "output_type": "execute_result"
    }
   ],
   "source": [
    "np.sort(ar3)"
   ]
  },
  {
   "cell_type": "code",
   "execution_count": 40,
   "id": "e992f25d-fc41-4170-983b-83ec230fbe6c",
   "metadata": {},
   "outputs": [],
   "source": [
    "# for string it sort the array alphabetically "
   ]
  },
  {
   "cell_type": "code",
   "execution_count": null,
   "id": "2106933c-d138-49ca-b852-c695089c810e",
   "metadata": {},
   "outputs": [],
   "source": []
  }
 ],
 "metadata": {
  "kernelspec": {
   "display_name": "Python 3 (ipykernel)",
   "language": "python",
   "name": "python3"
  },
  "language_info": {
   "codemirror_mode": {
    "name": "ipython",
    "version": 3
   },
   "file_extension": ".py",
   "mimetype": "text/x-python",
   "name": "python",
   "nbconvert_exporter": "python",
   "pygments_lexer": "ipython3",
   "version": "3.11.7"
  }
 },
 "nbformat": 4,
 "nbformat_minor": 5
}
