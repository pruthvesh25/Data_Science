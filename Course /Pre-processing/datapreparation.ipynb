{
 "cells": [
  {
   "cell_type": "code",
   "execution_count": 4,
   "id": "3f078037-20ca-4532-825e-b662084354f8",
   "metadata": {},
   "outputs": [],
   "source": [
    "# missing  value are showed by \"NaN\" in pandas \n",
    "# most of the algorithms may fail , except K-nearest , naive bayes\n",
    "#  missing value may kead to lack of prescision "
   ]
  },
  {
   "cell_type": "markdown",
   "id": "937b1c97-a1af-4f0a-b408-99e3ceb37a59",
   "metadata": {},
   "source": [
    "# mean Value ( used in numerical expression ) "
   ]
  },
  {
   "cell_type": "code",
   "execution_count": 5,
   "id": "5bd50858-3aff-4c71-9fd8-970d77ef6791",
   "metadata": {},
   "outputs": [],
   "source": [
    "# it will fill the values with the mean , but due to the outliers it may lead to the \n",
    "# value which is very far from the actual values ."
   ]
  },
  {
   "cell_type": "markdown",
   "id": "2252f4dc-c365-4137-b809-b3de71260040",
   "metadata": {},
   "source": [
    "# mode ( used in categorical features , eg.  gender )"
   ]
  },
  {
   "cell_type": "code",
   "execution_count": 6,
   "id": "363a9dd3-2eb6-4420-a2d4-886dd94a2957",
   "metadata": {},
   "outputs": [],
   "source": [
    "# also you can create the third category , eg male , female , missing ."
   ]
  },
  {
   "cell_type": "code",
   "execution_count": null,
   "id": "26f6af86-1fb9-4d89-9eb3-dea2e0bca11a",
   "metadata": {},
   "outputs": [],
   "source": []
  }
 ],
 "metadata": {
  "kernelspec": {
   "display_name": "Python 3 (ipykernel)",
   "language": "python",
   "name": "python3"
  },
  "language_info": {
   "codemirror_mode": {
    "name": "ipython",
    "version": 3
   },
   "file_extension": ".py",
   "mimetype": "text/x-python",
   "name": "python",
   "nbconvert_exporter": "python",
   "pygments_lexer": "ipython3",
   "version": "3.11.7"
  }
 },
 "nbformat": 4,
 "nbformat_minor": 5
}
